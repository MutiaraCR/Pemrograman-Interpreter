{
  "nbformat": 4,
  "nbformat_minor": 0,
  "metadata": {
    "colab": {
      "provenance": []
    },
    "kernelspec": {
      "name": "python3",
      "display_name": "Python 3"
    },
    "language_info": {
      "name": "python"
    }
  },
  "cells": [
    {
      "cell_type": "code",
      "execution_count": 2,
      "metadata": {
        "colab": {
          "base_uri": "https://localhost:8080/"
        },
        "id": "kz1prO_ln330",
        "outputId": "81fd8f64-9f45-4ece-88ef-eada9be96ea2"
      },
      "outputs": [
        {
          "output_type": "stream",
          "name": "stdout",
          "text": [
            "Masukkan angka :6\n",
            "                  \n",
            "\n",
            "                * \n",
            "\n",
            "             *  *  * \n",
            "\n",
            "          *  *  *  *  * \n",
            "\n",
            "       *  *  *  *  *  *  * \n",
            "\n",
            "    *  *  *  *  *  *  *  *  * \n",
            "\n",
            " *  *  *  *  *  *  *  *  *  *  * \n",
            "\n",
            "\n"
          ]
        }
      ],
      "source": [
        "string = \"\"\n",
        "\n",
        "x = int(input(\"Masukkan angka :\"))\n",
        "bar = x\n",
        "# Looping Baris\n",
        "while bar >= 0:\n",
        "\t# Looping Kolom Spasi Kosong\n",
        "\tkol = bar\n",
        "\twhile kol > 0:\n",
        "\t\tstring = string + \"   \"\n",
        "\t\tkol = kol - 1\n",
        "\t# Looping Kolom Bintang Sisi Kiri\n",
        "\tkiri = 1\n",
        "\twhile kiri < (x - (bar-1)):\n",
        "\t\tstring = string + \" * \"\n",
        "\t\tkiri = kiri + 1\n",
        "\t# Looping Kolom Bintang Sisi Kanan\n",
        "\tkanan = 1\n",
        "\twhile kanan < kiri -1:\n",
        "\t\tstring = string + \" * \"\n",
        "\t\tkanan = kanan + 1\n",
        "\n",
        "\tstring = string + \"\\n\\n\"\n",
        "\tbar = bar - 1\n",
        "\n",
        "print (string)"
      ]
    },
    {
      "cell_type": "code",
      "source": [
        "string = \"\"\n",
        "bar = 1\n",
        "\n",
        "x = int(input(\"Masukkan angka :\"))\n",
        "\n",
        "# Looping Baris\n",
        "while bar <= x:\n",
        "\tkol = bar\n",
        "\n",
        "\t# Looping Kolom\n",
        "\twhile kol > 0:\n",
        "\t\tstring = string + \" * \"\n",
        "\t\tkol = kol - 1\n",
        "\n",
        "\tstring = string + \"\\n\"\n",
        "\tbar = bar + 1\n",
        "print (string)"
      ],
      "metadata": {
        "colab": {
          "base_uri": "https://localhost:8080/"
        },
        "id": "RDTNaRzOrYoe",
        "outputId": "929758db-ea0e-4f5e-8683-c7e90c37391a"
      },
      "execution_count": 3,
      "outputs": [
        {
          "output_type": "stream",
          "name": "stdout",
          "text": [
            "Masukkan angka :5\n",
            " * \n",
            " *  * \n",
            " *  *  * \n",
            " *  *  *  * \n",
            " *  *  *  *  * \n",
            "\n"
          ]
        }
      ]
    },
    {
      "cell_type": "code",
      "source": [
        "string = \"\"\n",
        "\n",
        "bar = int(input(\"Masukkan angka :\"))\n",
        "\n",
        "#Looping Baris\n",
        "while bar >= 0:\n",
        "\tkol = bar\n",
        "\n",
        "\t# Looping Kolom\n",
        "\twhile kol > 0:\n",
        "\t\tstring = string + \" * \"\n",
        "\t\tkol = kol - 1\n",
        "\n",
        "\tstring = string + \"\\n\"\n",
        "\tbar = bar - 1\n",
        "\n",
        "print (string)"
      ],
      "metadata": {
        "colab": {
          "base_uri": "https://localhost:8080/"
        },
        "id": "ctOtpU0Bra3l",
        "outputId": "62572c4b-7150-40c2-e9f7-acbba21b4579"
      },
      "execution_count": 4,
      "outputs": [
        {
          "output_type": "stream",
          "name": "stdout",
          "text": [
            "Masukkan angka :5\n",
            " *  *  *  *  * \n",
            " *  *  *  * \n",
            " *  *  * \n",
            " *  * \n",
            " * \n",
            "\n",
            "\n"
          ]
        }
      ]
    },
    {
      "cell_type": "code",
      "source": [
        "string = \"\"\n",
        "\n",
        "x = int(input(\"Masukkan angka :\"))\n",
        "bar = x\n",
        "# Looping Baris\n",
        "while bar >= 0:\n",
        "\n",
        "\t# Looping Kolom Spasi Kosong\n",
        "\tkol = bar\n",
        "\twhile kol > 0:\n",
        "\t\tstring = string + \"   \"\n",
        "\t\tkol = kol - 1\n",
        "\n",
        "\t# Looping Kolom Bintang\n",
        "\tkanan = 1\n",
        "\twhile kanan < (x - (bar-1)):\n",
        "\t\tstring = string + \" * \"\n",
        "\t\tkanan = kanan + 1\n",
        "\n",
        "\tstring = string + \"\\n\"\n",
        "\tbar = bar - 1\n",
        "\n",
        "print (string)"
      ],
      "metadata": {
        "colab": {
          "base_uri": "https://localhost:8080/"
        },
        "id": "RJ1VkJb7rge0",
        "outputId": "bbc0d182-6b22-48f3-a580-896d9b491bd3"
      },
      "execution_count": 5,
      "outputs": [
        {
          "output_type": "stream",
          "name": "stdout",
          "text": [
            "Masukkan angka :5\n",
            "               \n",
            "             * \n",
            "          *  * \n",
            "       *  *  * \n",
            "    *  *  *  * \n",
            " *  *  *  *  * \n",
            "\n"
          ]
        }
      ]
    },
    {
      "cell_type": "code",
      "source": [
        "string = \"\"\n",
        "bar = 1\n",
        "\n",
        "x = int(input(\"Masukkan angka :\"))\n",
        "\n",
        "# Looping Baris\n",
        "while bar <= x:\n",
        "\t# Looping Kolom Spasi Kosong\n",
        "\tkol = bar\n",
        "\twhile kol > 1:\n",
        "\t\tstring = string + \"   \"\n",
        "\t\tkol = kol - 1\n",
        "\n",
        "\t# Looping Kolom Bintang\n",
        "\tkanan = 0\n",
        "\twhile kanan <= (x - bar):\n",
        "\t\tstring = string + \" * \"\n",
        "\t\tkanan = kanan + 1\n",
        "\n",
        "\tstring = string + \"\\n\"\n",
        "\tbar = bar + 1\n",
        "print (string)"
      ],
      "metadata": {
        "colab": {
          "base_uri": "https://localhost:8080/"
        },
        "id": "MJnT67Ivroff",
        "outputId": "c535ebff-0b43-4b8f-a361-e7b6911ff971"
      },
      "execution_count": 6,
      "outputs": [
        {
          "output_type": "stream",
          "name": "stdout",
          "text": [
            "Masukkan angka :5\n",
            " *  *  *  *  * \n",
            "    *  *  *  * \n",
            "       *  *  * \n",
            "          *  * \n",
            "             * \n",
            "\n"
          ]
        }
      ]
    },
    {
      "cell_type": "code",
      "source": [
        "string = \"\"\n",
        "bar = 1\n",
        "\n",
        "x = int(input(\"Masukkan angka :\"))\n",
        "print (\"\\n\")\n",
        "# Looping Baris\n",
        "while bar <= x:\n",
        "\tkol = bar\n",
        "\t# Looping Kolom Spasi Kosong\n",
        "\twhile kol > 1:\n",
        "\t\tstring = string + \"   \"\n",
        "\t\tkol = kol - 1\n",
        "\t# Looping Kolom Bintang Sisi Kiri\n",
        "\tkiri = 0\n",
        "\twhile kiri <= (x - bar):\n",
        "\t\tstring = string + \" * \"\n",
        "\t\tkiri = kiri + 1\n",
        "\t# Looping Kolom Bintang Sisi Kanan\n",
        "\tkanan = kiri\n",
        "\twhile kanan > 1:\n",
        "\t\tstring = string + \" * \"\n",
        "\t\tkanan = kanan - 1\n",
        "\n",
        "\tstring = string + \"\\n\\n\"\n",
        "\tbar = bar + 1\n",
        "print (string)"
      ],
      "metadata": {
        "colab": {
          "base_uri": "https://localhost:8080/"
        },
        "id": "s3UJtEDArxnK",
        "outputId": "2f777b36-7b2d-48a9-e195-21d2a5b33001"
      },
      "execution_count": 7,
      "outputs": [
        {
          "output_type": "stream",
          "name": "stdout",
          "text": [
            "Masukkan angka :5\n",
            "\n",
            "\n",
            " *  *  *  *  *  *  *  *  * \n",
            "\n",
            "    *  *  *  *  *  *  * \n",
            "\n",
            "       *  *  *  *  * \n",
            "\n",
            "          *  *  * \n",
            "\n",
            "             * \n",
            "\n",
            "\n"
          ]
        }
      ]
    }
  ]
}