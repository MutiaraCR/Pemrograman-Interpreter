{
  "nbformat": 4,
  "nbformat_minor": 0,
  "metadata": {
    "colab": {
      "provenance": []
    },
    "kernelspec": {
      "name": "python3",
      "display_name": "Python 3"
    },
    "language_info": {
      "name": "python"
    }
  },
  "cells": [
    {
      "cell_type": "code",
      "execution_count": 4,
      "metadata": {
        "colab": {
          "base_uri": "https://localhost:8080/"
        },
        "id": "TOKIHq8nRB_G",
        "outputId": "b9047fec-aa30-435e-f88f-4e2be9f3088a"
      },
      "outputs": [
        {
          "output_type": "stream",
          "name": "stdout",
          "text": [
            "masukan nomor plat : be kamska kkkw\n",
            "Plat nomor tersebut berasal dari Way Kanan\n"
          ]
        }
      ],
      "source": [
        "import re\n",
        "\n",
        "plat = input(\"masukan nomor plat : \")\n",
        "plat = plat.upper()\n",
        "\n",
        "pola = \"^BE.*W$\"\n",
        "hasil = re.match(pola, plat)\n",
        "\n",
        "if hasil:\n",
        "  print(\"Plat nomor tersebut berasal dari Way Kanan\")\n",
        "else:\n",
        "  print(\"Plat nomor tersebut bukan berasal dari Way Kanan\")"
      ]
    }
  ]
}