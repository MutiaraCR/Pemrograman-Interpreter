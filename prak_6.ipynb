{
  "nbformat": 4,
  "nbformat_minor": 0,
  "metadata": {
    "colab": {
      "provenance": []
    },
    "kernelspec": {
      "name": "python3",
      "display_name": "Python 3"
    },
    "language_info": {
      "name": "python"
    }
  },
  "cells": [
    {
      "cell_type": "code",
      "source": [
        "normal = \"Tulisan\""
      ],
      "metadata": {
        "id": "KCrorNk71qDi"
      },
      "execution_count": null,
      "outputs": []
    },
    {
      "cell_type": "code",
      "source": [
        "print(\"huruf kapital semua\")\n",
        "normal.upper()"
      ],
      "metadata": {
        "colab": {
          "base_uri": "https://localhost:8080/",
          "height": 53
        },
        "id": "qJn7MJgY2g1N",
        "outputId": "8ebf85c1-360f-48de-cc33-900b5ad27b61"
      },
      "execution_count": null,
      "outputs": [
        {
          "output_type": "stream",
          "name": "stdout",
          "text": [
            "huruf kapital semua\n"
          ]
        },
        {
          "output_type": "execute_result",
          "data": {
            "text/plain": [
              "'TULISAN'"
            ],
            "application/vnd.google.colaboratory.intrinsic+json": {
              "type": "string"
            }
          },
          "metadata": {},
          "execution_count": 8
        }
      ]
    },
    {
      "cell_type": "code",
      "source": [
        "print(\"huruf kecil semua\")\n",
        "normal.lower()"
      ],
      "metadata": {
        "colab": {
          "base_uri": "https://localhost:8080/",
          "height": 53
        },
        "id": "DfGAy0pa2j5A",
        "outputId": "b4af0151-af8b-4a3a-b28d-525949a9c0a1"
      },
      "execution_count": null,
      "outputs": [
        {
          "output_type": "stream",
          "name": "stdout",
          "text": [
            "huruf kecil semua\n"
          ]
        },
        {
          "output_type": "execute_result",
          "data": {
            "text/plain": [
              "'tulisan'"
            ],
            "application/vnd.google.colaboratory.intrinsic+json": {
              "type": "string"
            }
          },
          "metadata": {},
          "execution_count": 9
        }
      ]
    },
    {
      "cell_type": "code",
      "source": [
        "wadah = ['pensil', 'pulpen', 'spidol']\n",
        "print(wadah)"
      ],
      "metadata": {
        "colab": {
          "base_uri": "https://localhost:8080/"
        },
        "id": "ShMqG-kOz0ND",
        "outputId": "e2bad3a3-8aab-4c2c-bbf5-39a604176041"
      },
      "execution_count": null,
      "outputs": [
        {
          "output_type": "stream",
          "name": "stdout",
          "text": [
            "['pensil', 'pulpen', 'spidol']\n"
          ]
        }
      ]
    },
    {
      "cell_type": "code",
      "source": [
        "cariBarang = input(\"Masukan nama barang: \")"
      ],
      "metadata": {
        "colab": {
          "base_uri": "https://localhost:8080/"
        },
        "id": "Hu9aFn2J0KzG",
        "outputId": "b182af45-2986-4ec4-d86b-8e49f1253fea"
      },
      "execution_count": null,
      "outputs": [
        {
          "name": "stdout",
          "output_type": "stream",
          "text": [
            "Masukan nama barang: pEnsil\n"
          ]
        }
      ]
    },
    {
      "cell_type": "code",
      "source": [
        "if cariBarang.lower() in wadah:\n",
        "  print(cariBarang + \" ada dalam wadah\")\n",
        "else:\n",
        "  print(\"Barang tidak ada\")"
      ],
      "metadata": {
        "colab": {
          "base_uri": "https://localhost:8080/"
        },
        "id": "pCwdPfzx0VpT",
        "outputId": "e942f651-0c50-4296-a6db-7c8712a01c8e"
      },
      "execution_count": null,
      "outputs": [
        {
          "output_type": "stream",
          "name": "stdout",
          "text": [
            "pEnsil ada dalam wadah\n"
          ]
        }
      ]
    },
    {
      "cell_type": "code",
      "source": [
        "#menghapus white space di sebelah kanan 'right strip'\n",
        "print(\"             pawpaw             \".rstrip())\n",
        "#menghapus white space di sebelah kiri 'left strip'\n",
        "print(\"             pawpaw             \".lstrip())\n",
        "#menghapus white space di dua sisi\n",
        "print(\"             pawpaw             \".strip())"
      ],
      "metadata": {
        "colab": {
          "base_uri": "https://localhost:8080/"
        },
        "id": "faO6fR3E25zI",
        "outputId": "2faae80b-f858-4053-f16d-70a241f35173"
      },
      "execution_count": null,
      "outputs": [
        {
          "output_type": "stream",
          "name": "stdout",
          "text": [
            "             pawpaw\n",
            "pawpaw             \n",
            "pawpaw\n"
          ]
        }
      ]
    },
    {
      "cell_type": "code",
      "source": [],
      "metadata": {
        "id": "mxy0Dg0U3-p0"
      },
      "execution_count": null,
      "outputs": []
    }
  ]
}