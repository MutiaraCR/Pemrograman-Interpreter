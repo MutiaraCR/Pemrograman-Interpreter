{
  "nbformat": 4,
  "nbformat_minor": 0,
  "metadata": {
    "colab": {
      "provenance": []
    },
    "kernelspec": {
      "name": "python3",
      "display_name": "Python 3"
    },
    "language_info": {
      "name": "python"
    }
  },
  "cells": [
    {
      "cell_type": "markdown",
      "source": [
        "### Output pada Python"
      ],
      "metadata": {
        "id": "eS8YX3pbxJ1_"
      }
    },
    {
      "cell_type": "code",
      "execution_count": null,
      "metadata": {
        "id": "F0M5IqC1nCht",
        "colab": {
          "base_uri": "https://localhost:8080/"
        },
        "outputId": "90ea22ab-0386-490a-8611-eadb9e6a6d70"
      },
      "outputs": [
        {
          "output_type": "stream",
          "name": "stdout",
          "text": [
            "Bandar Lampung\n"
          ]
        }
      ],
      "source": [
        "print(\"Bandar Lampung\")"
      ]
    },
    {
      "cell_type": "code",
      "source": [
        "wadah = \"Bandar Lampung\"\n",
        "print(\"Kota\", wadah)\n",
        "#koma bisa jadi spasi otomatis"
      ],
      "metadata": {
        "colab": {
          "base_uri": "https://localhost:8080/"
        },
        "id": "DhWIgHZiuZb7",
        "outputId": "99ab14cd-5fa9-4c1e-d531-2670deacddf2"
      },
      "execution_count": null,
      "outputs": [
        {
          "output_type": "stream",
          "name": "stdout",
          "text": [
            "Kota Bandar Lampung\n"
          ]
        }
      ]
    },
    {
      "cell_type": "code",
      "source": [
        "print(\"Kota %s\" %(wadah))"
      ],
      "metadata": {
        "colab": {
          "base_uri": "https://localhost:8080/"
        },
        "id": "9KhDSccCupGe",
        "outputId": "842ca4e7-8ee7-4028-8288-bd42ac07e0f3"
      },
      "execution_count": null,
      "outputs": [
        {
          "output_type": "stream",
          "name": "stdout",
          "text": [
            "Kota Bandar Lampung\n"
          ]
        }
      ]
    },
    {
      "cell_type": "code",
      "source": [
        "tahun = 2023\n",
        "print(\"Sekarang tahun %d\" %(tahun))"
      ],
      "metadata": {
        "colab": {
          "base_uri": "https://localhost:8080/"
        },
        "id": "mt90gXUWvXR_",
        "outputId": "c5ed15eb-084d-4520-ba90-be415638e5ab"
      },
      "execution_count": null,
      "outputs": [
        {
          "output_type": "stream",
          "name": "stdout",
          "text": [
            "Sekarang tahun 2023\n"
          ]
        }
      ]
    },
    {
      "cell_type": "code",
      "source": [
        "batre = 25\n",
        "print(\"Baterai saya sekarang %f\" %(batre))\n",
        "#default: 6 digit di belakang koma\n",
        "\n",
        "#untuk mengatur digit menjadi 2 angka di belakang koma\n",
        "print (\"Baterai saya sekarang %.2f\" %(batre))\n",
        "\n",
        "#jika %.0f, maka outputnya seperti integer"
      ],
      "metadata": {
        "colab": {
          "base_uri": "https://localhost:8080/"
        },
        "id": "V52zxrE-vgv3",
        "outputId": "6411b0a6-617e-44ed-fdb7-f40ea4d50cda"
      },
      "execution_count": null,
      "outputs": [
        {
          "output_type": "stream",
          "name": "stdout",
          "text": [
            "Baterai saya sekarang 25.000000\n",
            "Baterai saya sekarang 25.00\n"
          ]
        }
      ]
    },
    {
      "cell_type": "code",
      "source": [
        "print(\"%x hexa\" %(50))"
      ],
      "metadata": {
        "colab": {
          "base_uri": "https://localhost:8080/"
        },
        "id": "zwpI_78WwIsQ",
        "outputId": "14f56aa9-b71e-4d36-8ffd-f8fde6458b26"
      },
      "execution_count": null,
      "outputs": [
        {
          "output_type": "stream",
          "name": "stdout",
          "text": [
            "32 hexa\n"
          ]
        }
      ]
    },
    {
      "cell_type": "code",
      "source": [
        "print(\"Kota {}\".format(wadah))"
      ],
      "metadata": {
        "colab": {
          "base_uri": "https://localhost:8080/"
        },
        "id": "urk8r72xwRVM",
        "outputId": "a18bbf9a-b10c-45ed-8cc3-9ec69a6bdf30"
      },
      "execution_count": null,
      "outputs": [
        {
          "output_type": "stream",
          "name": "stdout",
          "text": [
            "Kota Bandar Lampung\n"
          ]
        }
      ]
    },
    {
      "cell_type": "code",
      "source": [
        "print(\"Kota {0} {1}\".format(wadah, \"keren\"))"
      ],
      "metadata": {
        "colab": {
          "base_uri": "https://localhost:8080/"
        },
        "id": "CfO0_YnXw4mh",
        "outputId": "b10064d1-c9b5-4e10-a3db-e50f658b9100"
      },
      "execution_count": null,
      "outputs": [
        {
          "output_type": "stream",
          "name": "stdout",
          "text": [
            "Kota Bandar Lampung keren\n"
          ]
        }
      ]
    },
    {
      "cell_type": "markdown",
      "source": [
        "### Input pada Python"
      ],
      "metadata": {
        "id": "sGDntvFqxQk5"
      }
    },
    {
      "cell_type": "code",
      "source": [
        "skor = float(input(\"masukan skor anda: \"))\n",
        "#tipe data string --> skor = input(\"masukan skor anda: \")"
      ],
      "metadata": {
        "colab": {
          "base_uri": "https://localhost:8080/"
        },
        "id": "5PL2zdXaxP5a",
        "outputId": "fab2891f-d8fc-4ade-b1d0-62a65ab42771"
      },
      "execution_count": null,
      "outputs": [
        {
          "name": "stdout",
          "output_type": "stream",
          "text": [
            "masukan skor anda: 80\n"
          ]
        }
      ]
    },
    {
      "cell_type": "code",
      "source": [
        "print(skor)\n",
        "#jika ingin menjumlahkan pastikan tipe datanya bukan string"
      ],
      "metadata": {
        "colab": {
          "base_uri": "https://localhost:8080/"
        },
        "id": "nYPx6idHxd1o",
        "outputId": "a871e596-0169-4639-a1c2-8b31456e6ac6"
      },
      "execution_count": null,
      "outputs": [
        {
          "output_type": "stream",
          "name": "stdout",
          "text": [
            "80.0\n"
          ]
        }
      ]
    },
    {
      "cell_type": "code",
      "source": [
        "print(skor+20)\n",
        "# jika tipe data masih string --> print(int(skor)+20)"
      ],
      "metadata": {
        "colab": {
          "base_uri": "https://localhost:8080/"
        },
        "id": "uSLK051AxxY1",
        "outputId": "cf62be35-82d5-4fba-e04b-e521d7a90534"
      },
      "execution_count": null,
      "outputs": [
        {
          "output_type": "stream",
          "name": "stdout",
          "text": [
            "100.0\n"
          ]
        }
      ]
    },
    {
      "cell_type": "code",
      "source": [
        "import sys\n",
        "\n",
        "print('Jumlah arguments: ', len(sys.argv), 'arguments.')\n",
        "print('Argument List', str(sys.argv))\n",
        "print(sys.argv[1])"
      ],
      "metadata": {
        "colab": {
          "base_uri": "https://localhost:8080/"
        },
        "id": "LS7-2Gj8yDR9",
        "outputId": "fda5c6a4-126e-4341-b28b-69576014f5b2"
      },
      "execution_count": null,
      "outputs": [
        {
          "output_type": "stream",
          "name": "stdout",
          "text": [
            "Jumlah arguments:  3 arguments.\n",
            "Argument List ['/usr/local/lib/python3.10/dist-packages/ipykernel_launcher.py', '-f', '/root/.local/share/jupyter/runtime/kernel-64d7e48e-037f-4ca8-8034-797bbdb29c2b.json']\n",
            "-f\n"
          ]
        }
      ]
    },
    {
      "cell_type": "code",
      "source": [
        "x = 6\n",
        "print(type(x))\n",
        "\n",
        "y = 'hello'\n",
        "print(type(y))"
      ],
      "metadata": {
        "colab": {
          "base_uri": "https://localhost:8080/"
        },
        "id": "ebTBAmk60dCE",
        "outputId": "f815804b-005b-4ede-82c9-6ccc0f38a4c5"
      },
      "execution_count": null,
      "outputs": [
        {
          "output_type": "stream",
          "name": "stdout",
          "text": [
            "<class 'int'>\n",
            "<class 'str'>\n"
          ]
        }
      ]
    },
    {
      "cell_type": "code",
      "source": [],
      "metadata": {
        "id": "E1H7Itro0su7"
      },
      "execution_count": null,
      "outputs": []
    }
  ]
}