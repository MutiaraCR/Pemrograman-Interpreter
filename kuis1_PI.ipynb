{
  "nbformat": 4,
  "nbformat_minor": 0,
  "metadata": {
    "colab": {
      "provenance": []
    },
    "kernelspec": {
      "name": "python3",
      "display_name": "Python 3"
    },
    "language_info": {
      "name": "python"
    }
  },
  "cells": [
    {
      "cell_type": "code",
      "execution_count": null,
      "metadata": {
        "colab": {
          "base_uri": "https://localhost:8080/"
        },
        "id": "gQb5I3O-YkGh",
        "outputId": "f9440949-0e34-47a2-9336-9f176332c7be"
      },
      "outputs": [
        {
          "output_type": "stream",
          "name": "stdout",
          "text": [
            "Masukkan operasi bilangan: 12+7*2\n",
            "Hasil: 26\n"
          ]
        }
      ],
      "source": [
        "# Membaca operasi bilangan dari pengguna\n",
        "operasi = input(\"Masukkan operasi bilangan: \")\n",
        "\n",
        "# Mengevaluasi operasi dan mencetak hasilnya\n",
        "try:\n",
        "    hasil = eval(operasi)\n",
        "    print(\"Hasil:\", hasil)\n",
        "except (SyntaxError, ZeroDivisionError):\n",
        "    print(\"Operasi tidak valid\")"
      ]
    },
    {
      "cell_type": "code",
      "source": [
        "operasiBil = input()\n",
        "hasil = eval(operasiBil)\n",
        "print(hasil)"
      ],
      "metadata": {
        "colab": {
          "base_uri": "https://localhost:8080/"
        },
        "id": "IJNfDP8Qa2yo",
        "outputId": "7b252777-a910-46d0-f0d4-0999600912a3"
      },
      "execution_count": null,
      "outputs": [
        {
          "output_type": "stream",
          "name": "stdout",
          "text": [
            "12*2+4\n",
            "28\n"
          ]
        }
      ]
    },
    {
      "cell_type": "code",
      "source": [
        "# Menerima input operasi bilangan dari pengguna\n",
        "operasi = input(\"Masukkan operasi bilangan: \")\n",
        "\n",
        "# Menginisialisasi variabel hasil\n",
        "hasil = None\n",
        "\n",
        "try:\n",
        "    # Memisahkan operator dan operand dari operasi\n",
        "    operator = None\n",
        "    operand1 = None\n",
        "    operand2 = None\n",
        "\n",
        "    # Mencari operator\n",
        "    for op in ['+', '-', '*', '/']:\n",
        "        if op in operasi:\n",
        "            operator = op\n",
        "            operand1, operand2 = operasi.split(op)\n",
        "            operand1 = float(operand1)\n",
        "            operand2 = float(operand2)\n",
        "            break\n",
        "\n",
        "    # Menghitung hasil operasi berdasarkan operator\n",
        "    if operator == '+':\n",
        "        hasil = operand1 + operand2\n",
        "    elif operator == '-':\n",
        "        hasil = operand1 - operand2\n",
        "    elif operator == '*':\n",
        "        hasil = operand1 * operand2\n",
        "    elif operator == '/':\n",
        "        if operand2 != 0:\n",
        "            hasil = operand1 / operand2\n",
        "        else:\n",
        "            print(\"Error: Pembagian oleh nol tidak diizinkan.\")\n",
        "\n",
        "    # Mencetak hasil operasi jika tidak terjadi kesalahan\n",
        "    if hasil is not None:\n",
        "        print(\"Hasil operasi adalah:\", hasil)\n",
        "except ValueError:\n",
        "    print(\"Error: Operasi bilangan tidak valid.\")\n"
      ],
      "metadata": {
        "colab": {
          "base_uri": "https://localhost:8080/"
        },
        "id": "TgTob7v_cLSV",
        "outputId": "36223dda-c8b2-4796-c676-f4b6dab6481c"
      },
      "execution_count": null,
      "outputs": [
        {
          "output_type": "stream",
          "name": "stdout",
          "text": [
            "Masukkan operasi bilangan: 112*2+2\n",
            "Error: Operasi bilangan tidak valid.\n"
          ]
        }
      ]
    },
    {
      "cell_type": "code",
      "source": [
        "t, b, u = map(int, input().split())\n",
        "\n",
        "if t > 170 and b > 55 and u >= 15:\n",
        "    print(\"Lolos\")\n",
        "else:\n",
        "    print(\"Tidak Lolos\")"
      ],
      "metadata": {
        "colab": {
          "base_uri": "https://localhost:8080/"
        },
        "id": "K6VmqzIzdf8R",
        "outputId": "a933c927-8bd2-46f5-a54b-838d1274d595"
      },
      "execution_count": null,
      "outputs": [
        {
          "output_type": "stream",
          "name": "stdout",
          "text": [
            "170 70 17\n",
            "Tidak Lolos\n"
          ]
        }
      ]
    },
    {
      "cell_type": "code",
      "source": [
        "t = input()\n",
        "\n",
        "# Memisahkan string menjadi list bilangan bulat\n",
        "bilangan = input_string.split()\n",
        "\n",
        "# Mengonversi list string menjadi list bilangan bulat\n",
        "bilangan = [int(x) for x in bilangan]\n",
        "\n",
        "# Sekarang Anda memiliki list bilangan bulat yang dapat Anda gunakan dalam program Anda\n",
        "print(\"Bilangan yang dimasukkan:\", bilangan)\n"
      ],
      "metadata": {
        "colab": {
          "base_uri": "https://localhost:8080/"
        },
        "id": "0I6DCGhhewKC",
        "outputId": "6e5caf3c-2023-4305-aa47-429ca424fb4b"
      },
      "execution_count": null,
      "outputs": [
        {
          "output_type": "stream",
          "name": "stdout",
          "text": [
            "Masukkan bilangan bulat yang dipisahkan oleh spasi: 20 70 80\n",
            "Bilangan yang dimasukkan: [20, 70, 80]\n"
          ]
        }
      ]
    },
    {
      "cell_type": "code",
      "source": [
        "N = int(input())\n",
        "\n",
        "for i in range(N):\n",
        "    A, B = input().split()\n",
        "    A, B = int(A), int (B)\n",
        "\n",
        "    if str(A) in str(B):\n",
        "        if 2*B > A**2:\n",
        "            print(\"Ya\")\n",
        "        else:\n",
        "            print(\"Tidak\")\n",
        "    else:\n",
        "        print(\"Tidak\")"
      ],
      "metadata": {
        "colab": {
          "base_uri": "https://localhost:8080/"
        },
        "id": "TrnMWNPYhi2c",
        "outputId": "4266a205-6f45-4c4c-bbf7-129281c574ba"
      },
      "execution_count": null,
      "outputs": [
        {
          "output_type": "stream",
          "name": "stdout",
          "text": [
            "1\n",
            "12 112\n",
            "Ya\n"
          ]
        }
      ]
    },
    {
      "cell_type": "code",
      "source": [
        "N = int(input())\n",
        "\n",
        "if 1 <= N <= 100:\n",
        "    for i in range(N):\n",
        "        A, B = input().split()\n",
        "        A, B = int(A), int(B)\n",
        "\n",
        "        if 1 <= A <= 100000 & 1 <= B <= 100000:\n",
        "            if str(A) in str(B):\n",
        "                if 2*B > A**2:\n",
        "                    print(\"Ya\")\n",
        "                else:\n",
        "                    print(\"Tidak\")\n",
        "            else:\n",
        "                print(\"Tidak\")"
      ],
      "metadata": {
        "colab": {
          "base_uri": "https://localhost:8080/"
        },
        "id": "Panz26iKibZQ",
        "outputId": "507c9b16-1d84-4ca1-a92c-bd6d70f16979"
      },
      "execution_count": null,
      "outputs": [
        {
          "name": "stdout",
          "output_type": "stream",
          "text": [
            "1\n",
            "12 112\n"
          ]
        }
      ]
    }
  ]
}