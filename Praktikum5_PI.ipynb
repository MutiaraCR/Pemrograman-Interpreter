{
  "nbformat": 4,
  "nbformat_minor": 0,
  "metadata": {
    "colab": {
      "provenance": []
    },
    "kernelspec": {
      "name": "python3",
      "display_name": "Python 3"
    },
    "language_info": {
      "name": "python"
    }
  },
  "cells": [
    {
      "cell_type": "code",
      "execution_count": null,
      "metadata": {
        "id": "7HINCsqp0kVT"
      },
      "outputs": [],
      "source": [
        "usia = 15 #jika usia 0 maka variabel usia akan bernilai false"
      ]
    },
    {
      "cell_type": "code",
      "source": [
        "#jika usia bernilai false.. maka statement if tidak akan dilakukan\n",
        "if usia:\n",
        "  print(\"berhasil tercetak\")\n",
        "  print('usia saya', usia)"
      ],
      "metadata": {
        "colab": {
          "base_uri": "https://localhost:8080/"
        },
        "id": "STsLbj2v0sSp",
        "outputId": "65350b34-ad07-46ba-d3bb-d32f82187f4e"
      },
      "execution_count": null,
      "outputs": [
        {
          "output_type": "stream",
          "name": "stdout",
          "text": [
            "berhasil tercetak\n",
            "usia saya 15\n"
          ]
        }
      ]
    },
    {
      "cell_type": "code",
      "source": [
        "if usia == 20:\n",
        "  print('berhasil tercetak')\n",
        "  print('usia saya: ', usia)\n",
        "else:\n",
        "  print(\"salah\")"
      ],
      "metadata": {
        "colab": {
          "base_uri": "https://localhost:8080/"
        },
        "id": "XRWnW4ef2Fqp",
        "outputId": "abcd3929-8d3b-4f17-f9da-f0a4ac33f13c"
      },
      "execution_count": null,
      "outputs": [
        {
          "output_type": "stream",
          "name": "stdout",
          "text": [
            "salah\n"
          ]
        }
      ]
    },
    {
      "cell_type": "code",
      "source": [
        "if usia > 15:\n",
        "  print('usia diatas 15 tahun')\n",
        "elif 10 < usia < 15:\n",
        "  print('usia di atas 10 dan usia di bawah 15')\n",
        "else:\n",
        "  print(\"salah\")"
      ],
      "metadata": {
        "colab": {
          "base_uri": "https://localhost:8080/"
        },
        "id": "guwfs3ls2WuE",
        "outputId": "6acc21c6-119f-4e99-8a2e-62211ffab068"
      },
      "execution_count": null,
      "outputs": [
        {
          "output_type": "stream",
          "name": "stdout",
          "text": [
            "salah\n"
          ]
        }
      ]
    },
    {
      "cell_type": "code",
      "source": [
        "if usia > 15:\n",
        "  print('usia diatas 15 tahun')\n",
        "#meski memiliki condition yang sama, yg dicetak adalah yg di atas\n",
        "elif 10 < usia < 15: #karena di eksekusi lebih dulu\n",
        "  print('usia di atas 10 dan usia di bawah 15')\n",
        "elif 10 < usia < 15:\n",
        "  print('usia di atas 10 dan usia di bawah 15')\n",
        "else:\n",
        "  print(\"salah\")"
      ],
      "metadata": {
        "colab": {
          "base_uri": "https://localhost:8080/"
        },
        "id": "p3Rsy5jy3eMh",
        "outputId": "07b3ae94-8514-49a0-db14-759857590009"
      },
      "execution_count": null,
      "outputs": [
        {
          "output_type": "stream",
          "name": "stdout",
          "text": [
            "salah\n"
          ]
        }
      ]
    },
    {
      "cell_type": "code",
      "source": [
        "usia = 9\n",
        "if usia:\n",
        "  if usia < 20:\n",
        "    if usia == 13:\n",
        "      print(\"berhasil tercetak\")\n",
        "      if usia == 9:\n",
        "        print(\"berhasil tercetak hahahahahaha\")"
      ],
      "metadata": {
        "id": "YMQCS6E13utG"
      },
      "execution_count": null,
      "outputs": []
    },
    {
      "cell_type": "code",
      "source": [
        "#ternary operator cara 1\n",
        "input_bil = int(input(\"masukan bilangan: \"))\n",
        "hasil = \"bilangan genap\" if input_bil % 2 == 0 else \"bilangan ganjil\"\n",
        "print(hasil)"
      ],
      "metadata": {
        "colab": {
          "base_uri": "https://localhost:8080/"
        },
        "id": "R6KYK7sF4j53",
        "outputId": "42265c30-ca37-410e-b766-99f62469751c"
      },
      "execution_count": null,
      "outputs": [
        {
          "output_type": "stream",
          "name": "stdout",
          "text": [
            "masukan bilangan: 4\n",
            "bilangan genap\n"
          ]
        }
      ]
    },
    {
      "cell_type": "code",
      "source": [
        "#ternary operator cara 2\n",
        "input_bil = int(input(\"masukan bilangan: \"))\n",
        "hasil = (\"ganjil\", \"genap\")[input_bil % 2 == 0]\n",
        "print(\"bilangan \", hasil)"
      ],
      "metadata": {
        "colab": {
          "base_uri": "https://localhost:8080/"
        },
        "id": "AxAW12OI5NJC",
        "outputId": "877815ba-021a-4ef3-8202-d50193dd76f0"
      },
      "execution_count": null,
      "outputs": [
        {
          "output_type": "stream",
          "name": "stdout",
          "text": [
            "masukan bilangan: 3\n",
            "bilangan  ganjil\n"
          ]
        }
      ]
    },
    {
      "cell_type": "code",
      "source": [
        "#ternary operator cara 3\n",
        "input_bil = int(input(\"masukan bilangan: \"))\n",
        "hasil = (\"bilangan positif\" if input_bil > 0 else \"enol\" if input_bil == 0 else \"bilangan negatif\")\n",
        "print(hasil)"
      ],
      "metadata": {
        "colab": {
          "base_uri": "https://localhost:8080/"
        },
        "id": "zAqqH3vD5pbC",
        "outputId": "e96916f8-f043-4ebb-f593-02d8c2cfef9b"
      },
      "execution_count": null,
      "outputs": [
        {
          "output_type": "stream",
          "name": "stdout",
          "text": [
            "masukan bilangan: -2\n",
            "bilangan negatif\n"
          ]
        }
      ]
    },
    {
      "cell_type": "code",
      "source": [
        "angka = [1,2,3]\n",
        "input_bil = int(input(\"masukan bilangan: \"))\n",
        "if input_bil == angka[0]:\n",
        "  print(\"satu\")\n",
        "elif input_bil == angka[1]:\n",
        "  print(\"dua\")\n",
        "elif input_bil == angka[2]:\n",
        "  print(\"tiga\")"
      ],
      "metadata": {
        "colab": {
          "base_uri": "https://localhost:8080/"
        },
        "id": "33de1jL87tAL",
        "outputId": "129bb8d7-0cb0-45ff-bdef-ab329183a8bf"
      },
      "execution_count": null,
      "outputs": [
        {
          "output_type": "stream",
          "name": "stdout",
          "text": [
            "masukan bilangan: 1\n",
            "satu\n"
          ]
        }
      ]
    },
    {
      "cell_type": "code",
      "source": [
        "angka = [1,2,3]\n",
        "input_bil = int(input(\"masukan bilangan: \"))\n",
        "hasil = (\"satu\" if input_bil == angka[0] else \"dua\" if input_bil == angka[1] else \"tiga\" if input_bil == angka[2] else \"gatau\")\n",
        "print(hasil)"
      ],
      "metadata": {
        "colab": {
          "base_uri": "https://localhost:8080/"
        },
        "id": "4QAshZbL8Fm_",
        "outputId": "5de5a9f3-764b-4736-a225-f031e1809c4c"
      },
      "execution_count": null,
      "outputs": [
        {
          "output_type": "stream",
          "name": "stdout",
          "text": [
            "masukan bilangan: 4\n",
            "gatau\n"
          ]
        }
      ]
    },
    {
      "cell_type": "code",
      "source": [
        "angka = [1,2,3]\n",
        "input_bil = int(input(\"masukan bilangan: \"))\n",
        "#backslash digunakan untuk enter jika baris syntax terlalu panjang\n",
        "hasil = (\"satu\" if input_bil == angka[0] else \\\n",
        "         \"dua\" if input_bil == angka[1] else \\\n",
        "         \"tiga\" if input_bil == angka[2] else \\\n",
        "         \"gatau\")\n",
        "print(hasil)"
      ],
      "metadata": {
        "id": "K9wwbGIB8cct"
      },
      "execution_count": null,
      "outputs": []
    },
    {
      "cell_type": "code",
      "source": [
        "buah = [\"apel\", \"mangga\", \"pisang\"]\n",
        "for keranjang in buah:\n",
        "  print(\"buah\", keranjang)"
      ],
      "metadata": {
        "colab": {
          "base_uri": "https://localhost:8080/"
        },
        "id": "CVZZS7jK9jpB",
        "outputId": "39d1c2ef-3ab3-4443-cd45-e31bab742058"
      },
      "execution_count": null,
      "outputs": [
        {
          "output_type": "stream",
          "name": "stdout",
          "text": [
            "buah apel\n",
            "buah mangga\n",
            "buah pisang\n"
          ]
        }
      ]
    },
    {
      "cell_type": "code",
      "source": [
        "buah = [\"apel\", \"mangga\", \"pisang\"]\n",
        "for keranjang in range(3): #angka 3 adalah batas akhir dari jarak\n",
        "  print(\"buah\", buah[keranjang])"
      ],
      "metadata": {
        "colab": {
          "base_uri": "https://localhost:8080/"
        },
        "id": "zW1CHuuF91bG",
        "outputId": "1f301cf5-60d2-4d7d-8ccf-4516c76a12d6"
      },
      "execution_count": null,
      "outputs": [
        {
          "output_type": "stream",
          "name": "stdout",
          "text": [
            "buah apel\n",
            "buah mangga\n",
            "buah pisang\n"
          ]
        }
      ]
    },
    {
      "cell_type": "code",
      "source": [
        "buah = [\"apel\", \"mangga\", \"pisang\"]\n",
        "for keranjang in range(0,3,1): # 0 <= x < 3\n",
        "  print(\"buah\", buah[keranjang])"
      ],
      "metadata": {
        "colab": {
          "base_uri": "https://localhost:8080/"
        },
        "id": "Ftl4tMkF-XqP",
        "outputId": "d4087db9-a6d3-4f1d-a412-c0087485aff3"
      },
      "execution_count": null,
      "outputs": [
        {
          "output_type": "stream",
          "name": "stdout",
          "text": [
            "buah apel\n",
            "buah mangga\n",
            "buah pisang\n"
          ]
        }
      ]
    },
    {
      "cell_type": "code",
      "source": [
        "buah = [\"apel\", \"mangga\", \"pisang\",\"apel\", \"mangga\", \"pisang\",\"apel\", \"mangga\", \"pisang\"]\n",
        "for keranjang in range(len(buah)):\n",
        "  print(\"buah\", buah[keranjang])"
      ],
      "metadata": {
        "colab": {
          "base_uri": "https://localhost:8080/"
        },
        "id": "ZajBgwoi-rRQ",
        "outputId": "3c60f885-d1d4-4af5-9831-c746cae5c2d4"
      },
      "execution_count": null,
      "outputs": [
        {
          "output_type": "stream",
          "name": "stdout",
          "text": [
            "buah apel\n",
            "buah mangga\n",
            "buah pisang\n",
            "buah apel\n",
            "buah mangga\n",
            "buah pisang\n",
            "buah apel\n",
            "buah mangga\n",
            "buah pisang\n"
          ]
        }
      ]
    },
    {
      "cell_type": "code",
      "source": [
        "usia = 15\n",
        "while usia:\n",
        "  print(usia, end=' ')\n",
        "  usia = usia-1"
      ],
      "metadata": {
        "colab": {
          "base_uri": "https://localhost:8080/"
        },
        "id": "HNHbZANA_JwA",
        "outputId": "2f54924d-597b-4d27-8cfc-350f7d0f4a03"
      },
      "execution_count": null,
      "outputs": [
        {
          "output_type": "stream",
          "name": "stdout",
          "text": [
            "15 14 13 12 11 10 9 8 7 6 5 4 3 2 1 "
          ]
        }
      ]
    },
    {
      "cell_type": "code",
      "source": [
        "usia = 15\n",
        "while usia:\n",
        "  print(usia, end=' ')\n",
        "  if usia == 5:\n",
        "    break\n",
        "  usia = usia-1"
      ],
      "metadata": {
        "colab": {
          "base_uri": "https://localhost:8080/"
        },
        "id": "41eu7Hhu_wIK",
        "outputId": "87f94a66-8307-40de-ce25-f9072f819655"
      },
      "execution_count": null,
      "outputs": [
        {
          "output_type": "stream",
          "name": "stdout",
          "text": [
            "15 14 13 12 11 10 9 8 7 6 5 "
          ]
        }
      ]
    },
    {
      "cell_type": "code",
      "source": [
        "bilangan = int(input(\"masukan bilangan: \"))\n",
        "while bilangan:\n",
        "  if bilangan % 2 == 0:\n",
        "    print(bilangan, end=' ')\n",
        "  bilangan = bilangan-1"
      ],
      "metadata": {
        "colab": {
          "base_uri": "https://localhost:8080/"
        },
        "id": "fgh-4W_CAeJs",
        "outputId": "669d0e82-aae6-4f8f-a35f-3a5c64b815e5"
      },
      "execution_count": null,
      "outputs": [
        {
          "output_type": "stream",
          "name": "stdout",
          "text": [
            "masukan bilangan: 20\n",
            "20 18 16 14 12 10 8 6 4 2 "
          ]
        }
      ]
    },
    {
      "cell_type": "code",
      "source": [
        "usia = 15\n",
        "while usia:\n",
        "  usia = usia-1\n",
        "  if usia == 5:\n",
        "    continue\n",
        "  print(usia, end=' ')"
      ],
      "metadata": {
        "colab": {
          "base_uri": "https://localhost:8080/"
        },
        "id": "OCqndIr2Bc1v",
        "outputId": "863d8eee-da71-478b-96d4-8a7d88f17d88"
      },
      "execution_count": null,
      "outputs": [
        {
          "output_type": "stream",
          "name": "stdout",
          "text": [
            "14 13 12 11 10 9 8 7 6 4 3 2 1 0 "
          ]
        }
      ]
    },
    {
      "cell_type": "code",
      "source": [
        "for n in range(2,0):\n",
        "  for x in range(2,n):\n",
        "    if n % x == 0:\n",
        "      print(n, \"habis dibagi\", x)\n",
        "      break\n",
        "    else:\n",
        "      print(n, \"adalah bilangan prima\")"
      ],
      "metadata": {
        "id": "9mN3JepUCK-Z"
      },
      "execution_count": null,
      "outputs": []
    },
    {
      "cell_type": "code",
      "source": [
        "usia = 15\n",
        "while usia:\n",
        "  usia = usia-1\n",
        "  if usia == 5:\n",
        "    continue\n",
        "\n",
        "  print(usia, end=' ')\n",
        "else:\n",
        "  print(\"Selesai\")"
      ],
      "metadata": {
        "colab": {
          "base_uri": "https://localhost:8080/"
        },
        "id": "7sbmC_UNCt2-",
        "outputId": "6844e6f9-95e0-4d5c-938b-f342c10382cd"
      },
      "execution_count": null,
      "outputs": [
        {
          "output_type": "stream",
          "name": "stdout",
          "text": [
            "14 13 12 11 10 9 8 7 6 4 3 2 1 0 Selesai\n"
          ]
        }
      ]
    },
    {
      "cell_type": "code",
      "source": [
        "buah = [\"mangga\", \"apel\", \"pisang\"]\n",
        "copy_buah = [x for x in buah]\n",
        "print(copy_buah)"
      ],
      "metadata": {
        "colab": {
          "base_uri": "https://localhost:8080/"
        },
        "id": "-LvW195mC4vL",
        "outputId": "f91590a6-9be4-4cc6-9bd9-707e82a4533b"
      },
      "execution_count": null,
      "outputs": [
        {
          "output_type": "stream",
          "name": "stdout",
          "text": [
            "['mangga', 'apel', 'pisang']\n"
          ]
        }
      ]
    },
    {
      "cell_type": "code",
      "source": [
        "buah = [\"mangga\", \"apel\", \"pisang\"]\n",
        "copy_buah = [x for x in buah if x != \"apel\"]\n",
        "print(copy_buah)"
      ],
      "metadata": {
        "colab": {
          "base_uri": "https://localhost:8080/"
        },
        "id": "PfXWNniDDW4R",
        "outputId": "8dd68260-c71a-4383-9feb-d32dbb61f3be"
      },
      "execution_count": null,
      "outputs": [
        {
          "output_type": "stream",
          "name": "stdout",
          "text": [
            "['mangga', 'pisang']\n"
          ]
        }
      ]
    },
    {
      "cell_type": "code",
      "source": [
        "buah = [\"mangga\", \"apel\", \"pisang\"]\n",
        "copy_buah = [x.upper() if x == \"apel\" else x for x in buah]\n",
        "print(copy_buah)"
      ],
      "metadata": {
        "colab": {
          "base_uri": "https://localhost:8080/"
        },
        "id": "2ehOuBkbDkYk",
        "outputId": "06c6ef67-c996-4476-b06d-e2e0ffd9a8db"
      },
      "execution_count": null,
      "outputs": [
        {
          "output_type": "stream",
          "name": "stdout",
          "text": [
            "['mangga', 'APEL', 'pisang']\n"
          ]
        }
      ]
    },
    {
      "cell_type": "code",
      "source": [
        "buah = [\"mangga\", \"apel\", \"pisang\"]\n",
        "buah_wadah = []\n",
        "for x in buah:\n",
        "  if x != \"apel\":\n",
        "    buah_wadah.append(x)\n",
        "\n",
        "print(buah_wadah)"
      ],
      "metadata": {
        "colab": {
          "base_uri": "https://localhost:8080/"
        },
        "id": "jqy-BBGKED8k",
        "outputId": "049d8c0f-8f1f-487e-c06e-7e49c0392b35"
      },
      "execution_count": null,
      "outputs": [
        {
          "output_type": "stream",
          "name": "stdout",
          "text": [
            "['mangga', 'pisang']\n"
          ]
        }
      ]
    }
  ]
}