{
  "nbformat": 4,
  "nbformat_minor": 0,
  "metadata": {
    "colab": {
      "provenance": []
    },
    "kernelspec": {
      "name": "python3",
      "display_name": "Python 3"
    },
    "language_info": {
      "name": "python"
    }
  },
  "cells": [
    {
      "cell_type": "code",
      "source": [],
      "metadata": {
        "id": "O218anN2IPPM"
      },
      "execution_count": null,
      "outputs": []
    },
    {
      "cell_type": "code",
      "execution_count": null,
      "metadata": {
        "colab": {
          "base_uri": "https://localhost:8080/"
        },
        "id": "pp5h3LZYBzos",
        "outputId": "0fe14aa2-9c89-417c-e617-641502588033"
      },
      "outputs": [
        {
          "output_type": "stream",
          "name": "stdout",
          "text": [
            "Apakah daging ayam tersedia? (y/n): n\n",
            "Ibu membeli dan memasak tempe.\n"
          ]
        }
      ],
      "source": [
        "ayam = str(input(\"Apakah daging ayam tersedia? (y/n): \"))\n",
        "\n",
        "if(ayam == \"y\"):\n",
        "  print(\"Ibu membeli dan memasak ayam.\")\n",
        "else:\n",
        "  print(\"Ibu membeli dan memasak tempe.\")"
      ]
    },
    {
      "cell_type": "code",
      "source": [
        "tempe = True\n",
        "jumlah = str(input(\"Apakah jumlah tempe cukup? (y/n): \"))\n",
        "\n",
        "while (jumlah == 'n'):\n",
        "  tempe = False\n",
        "  print(\"potong lagi.\")\n",
        "  kurang = str(input(\"Apakah sudah cukup? (y/n): \"))\n",
        "  jumlah = kurang\n",
        "\n",
        "print(\"Jumlah tempe cukup.\")"
      ],
      "metadata": {
        "colab": {
          "base_uri": "https://localhost:8080/"
        },
        "id": "EL9hzhAzG7EL",
        "outputId": "171aa528-12cb-4b1b-b00c-2656f1ac60eb"
      },
      "execution_count": null,
      "outputs": [
        {
          "output_type": "stream",
          "name": "stdout",
          "text": [
            "Apakah jumlah tempe cukup? (y/n): n\n",
            "potong lagi.\n",
            "Apakah sudah cukup? (y/n): n\n",
            "potong lagi.\n",
            "Apakah sudah cukup? (y/n): y\n",
            "Jumlah tempe cukup.\n"
          ]
        }
      ]
    },
    {
      "cell_type": "code",
      "source": [
        "for i in range(5, 0, -1):\n",
        "    for j in range(5-i):\n",
        "        print(\" \", end=\" \")\n",
        "\n",
        "    for j in range(2*i-1):\n",
        "        if j==0 or j==2*i-2 or i==5:\n",
        "            print(\"*\", end=\" \")\n",
        "        else:\n",
        "            print(\" \", end=\" \")\n",
        "    print()\n",
        "\n",
        "for i in range(2, 5+1):\n",
        "    for j in range(5-i):\n",
        "        print(\" \", end=\" \")\n",
        "\n",
        "    for j in range(2*i-1):\n",
        "        if j==0 or j==2*i-2 or i==5:\n",
        "            print(\"*\", end=\" \")\n",
        "        else:\n",
        "            print(\" \", end=\" \")\n",
        "    print()"
      ],
      "metadata": {
        "colab": {
          "base_uri": "https://localhost:8080/"
        },
        "id": "z5RXOMUOJKGj",
        "outputId": "59fe8465-7997-4699-f9ba-0c391e75f60f"
      },
      "execution_count": null,
      "outputs": [
        {
          "output_type": "stream",
          "name": "stdout",
          "text": [
            "* * * * * * * * * \n",
            "  *           * \n",
            "    *       * \n",
            "      *   * \n",
            "        * \n",
            "      *   * \n",
            "    *       * \n",
            "  *           * \n",
            "* * * * * * * * * \n"
          ]
        }
      ]
    },
    {
      "cell_type": "code",
      "source": [
        "for i in range(5, 0, -1):\n",
        "    for j in range(5-i):\n",
        "        print(\" \", end=\" \")\n",
        "\n",
        "    for j in range(2*i-1):\n",
        "        if j==0 or j==2*i-2 or i==5:\n",
        "            print(j+1, end=\" \")\n",
        "        else:\n",
        "            print(\" \", end=\" \")\n",
        "    print()\n",
        "\n",
        "for i in range(2, 5 + 1):\n",
        "    for j in range(5-i):\n",
        "        print(\" \", end=\" \")\n",
        "\n",
        "    for j in range(2*i-1):\n",
        "        if j==0 or j==2*i-2 or i==5:\n",
        "            print(j+1, end=\" \")\n",
        "        else:\n",
        "            print(\" \", end=\" \")\n",
        "    print()"
      ],
      "metadata": {
        "colab": {
          "base_uri": "https://localhost:8080/"
        },
        "id": "cN6WKXhQ9L_8",
        "outputId": "918c1513-6328-4aab-fe18-397d320f2e86"
      },
      "execution_count": null,
      "outputs": [
        {
          "output_type": "stream",
          "name": "stdout",
          "text": [
            "1 2 3 4 5 6 7 8 9 \n",
            "  1           7 \n",
            "    1       5 \n",
            "      1   3 \n",
            "        1 \n",
            "      1   3 \n",
            "    1       5 \n",
            "  1           7 \n",
            "1 2 3 4 5 6 7 8 9 \n"
          ]
        }
      ]
    },
    {
      "cell_type": "code",
      "source": [
        "huruf = [\"A\",\"B\",\"C\",\"D\",\"E\",\"F\",\"G\",\"H\",\"I\"]\n",
        "\n",
        "for i in range(5, 0, -1):\n",
        "    for j in range(5-i):\n",
        "        print(\" \", end=\" \")\n",
        "\n",
        "    for j in range(2*i-1):\n",
        "        if j==0 or j==2*i-2 or i==5:\n",
        "            print(huruf[j], end=\" \")\n",
        "        else:\n",
        "            print(\" \", end=\" \")\n",
        "    print()\n",
        "\n",
        "for i in range(2, 5 + 1):\n",
        "    for j in range(5 - i):\n",
        "        print(\" \", end=\" \")\n",
        "\n",
        "    for j in range(2 * i - 1):\n",
        "        if j==0 or j==2 * i-2 or i==5:\n",
        "            print(huruf[j], end=\" \")\n",
        "        else:\n",
        "            print(\" \", end=\" \")\n",
        "    print()"
      ],
      "metadata": {
        "colab": {
          "base_uri": "https://localhost:8080/"
        },
        "id": "SqRJFfue9f9k",
        "outputId": "5d7e8c60-9a10-4f70-c3f2-051909783068"
      },
      "execution_count": null,
      "outputs": [
        {
          "output_type": "stream",
          "name": "stdout",
          "text": [
            "A B C D E F G H I \n",
            "  A           G \n",
            "    A       E \n",
            "      A   C \n",
            "        A \n",
            "      A   C \n",
            "    A       E \n",
            "  A           G \n",
            "A B C D E F G H I \n"
          ]
        }
      ]
    },
    {
      "cell_type": "code",
      "source": [
        "import time\n",
        "\n",
        "def nestedLoop(N):\n",
        "  for i in range(N):\n",
        "      for j in range(i + 1, N):\n",
        "          print(\"i =\", i, \"j =\", j)\n",
        "\n",
        "N = 5\n",
        "\n",
        "start = time.time()\n",
        "nestedLoop(N)\n",
        "end = time.time()\n",
        "\n",
        "print(\"Waktu eksekusi nested loop: \", (end-start) * 10**3)"
      ],
      "metadata": {
        "colab": {
          "base_uri": "https://localhost:8080/"
        },
        "id": "JMhw2RQqKCJw",
        "outputId": "9efba66d-12ab-419d-9178-caf2dc453b22"
      },
      "execution_count": null,
      "outputs": [
        {
          "output_type": "stream",
          "name": "stdout",
          "text": [
            "i = 0 j = 1\n",
            "i = 0 j = 2\n",
            "i = 0 j = 3\n",
            "i = 0 j = 4\n",
            "i = 1 j = 2\n",
            "i = 1 j = 3\n",
            "i = 1 j = 4\n",
            "i = 2 j = 3\n",
            "i = 2 j = 4\n",
            "i = 3 j = 4\n",
            "Waktu eksekusi nested loop:  4.822492599487305\n"
          ]
        }
      ]
    },
    {
      "cell_type": "code",
      "source": [
        "def loopBiasa(N):\n",
        "  for i in range(N):\n",
        "    print(\"i= \", i)\n",
        "\n",
        "N = 5\n",
        "\n",
        "start = time.time()\n",
        "loopBiasa(N)\n",
        "end = time.time()\n",
        "\n",
        "print(\"Waktu eksekusi loop biasa: \", (end-start) * 10**3)"
      ],
      "metadata": {
        "colab": {
          "base_uri": "https://localhost:8080/"
        },
        "id": "WW3Syv2uJ3ow",
        "outputId": "b0068b9a-5bff-4571-b71c-998b772ea2f3"
      },
      "execution_count": null,
      "outputs": [
        {
          "output_type": "stream",
          "name": "stdout",
          "text": [
            "i=  0\n",
            "i=  1\n",
            "i=  2\n",
            "i=  3\n",
            "i=  4\n",
            "Waktu eksekusi loop biasa:  2.693653106689453\n"
          ]
        }
      ]
    }
  ]
}