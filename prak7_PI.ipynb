{
  "nbformat": 4,
  "nbformat_minor": 0,
  "metadata": {
    "colab": {
      "provenance": []
    },
    "kernelspec": {
      "name": "python3",
      "display_name": "Python 3"
    },
    "language_info": {
      "name": "python"
    }
  },
  "cells": [
    {
      "cell_type": "code",
      "execution_count": null,
      "metadata": {
        "colab": {
          "base_uri": "https://localhost:8080/"
        },
        "id": "uREbvvf09lJU",
        "outputId": "ec9f014a-d768-4cd5-a346-25fead2669f3"
      },
      "outputs": [
        {
          "output_type": "stream",
          "name": "stdout",
          "text": [
            "Tidak boleh dibagi dengan nol\n"
          ]
        }
      ],
      "source": [
        "angka = 5\n",
        "pembagi = 0\n",
        "\n",
        "try:\n",
        "  output = angka / pembagi\n",
        "  print(output)\n",
        "#except NameError:\n",
        "#  print(\"Variabel belum dibuat\")\n",
        "except ZeroDivisionError:\n",
        "  print(\"Tidak boleh dibagi dengan nol\")"
      ]
    },
    {
      "cell_type": "code",
      "source": [
        "angka = 5\n",
        "pembagi = 0\n",
        "\n",
        "try:\n",
        "#  output = angka / pembagi\n",
        "#  bilangan = 5/0\n",
        "  print(bilangan)\n",
        "except NameError:\n",
        "  print(\"Variabel belum dibuat\")\n",
        "except ZeroDivisionError:\n",
        "  print(\"Tidak boleh dibagi dengan nol\")"
      ],
      "metadata": {
        "colab": {
          "base_uri": "https://localhost:8080/"
        },
        "id": "s-6RZqBW_Y7I",
        "outputId": "e4a98eba-d9c1-436e-ba87-959b9c5beab6"
      },
      "execution_count": null,
      "outputs": [
        {
          "output_type": "stream",
          "name": "stdout",
          "text": [
            "0\n"
          ]
        }
      ]
    }
  ]
}